{
 "cells": [
  {
   "cell_type": "markdown",
   "id": "d64b9708",
   "metadata": {},
   "source": [
    "# AUTHOR : Sampath Rakesh\n",
    "# DOMAIN : Data Science and Business Analytics Intern\n",
    "# PREDICTION USING SUPERVISED LEARNING\n",
    "       (Level - Beginner)\n",
    "       \n",
    "<font color=blue>GRIP TASK 1</font>\n",
    "<br>\n",
    "\n",
    "\n",
    "\n",
    "**Problem Statement : What will be the predicted score if student studies for 9.25 hrs/day?**\n",
    "<br>\n",
    "<br>\n",
    "\n"
   ]
  },
  {
   "cell_type": "code",
   "execution_count": 1,
   "id": "247e84b3",
   "metadata": {},
   "outputs": [],
   "source": [
    "#importing required libraries\n",
    "import pandas as pd"
   ]
  },
  {
   "cell_type": "markdown",
   "id": "a5906c57",
   "metadata": {},
   "source": [
    "Reading data from file"
   ]
  },
  {
   "cell_type": "code",
   "execution_count": 2,
   "id": "2775a434",
   "metadata": {},
   "outputs": [],
   "source": [
    "df=pd.read_csv(r\"C:\\Users\\rakesh\\Desktop\\Datascience Projects\\studentperc.csv\")"
   ]
  },
  {
   "cell_type": "markdown",
   "id": "34053ffa",
   "metadata": {},
   "source": [
    "Exploring the data"
   ]
  },
  {
   "cell_type": "code",
   "execution_count": 3,
   "id": "9c010def",
   "metadata": {},
   "outputs": [
    {
     "data": {
      "text/html": [
       "<div>\n",
       "<style scoped>\n",
       "    .dataframe tbody tr th:only-of-type {\n",
       "        vertical-align: middle;\n",
       "    }\n",
       "\n",
       "    .dataframe tbody tr th {\n",
       "        vertical-align: top;\n",
       "    }\n",
       "\n",
       "    .dataframe thead th {\n",
       "        text-align: right;\n",
       "    }\n",
       "</style>\n",
       "<table border=\"1\" class=\"dataframe\">\n",
       "  <thead>\n",
       "    <tr style=\"text-align: right;\">\n",
       "      <th></th>\n",
       "      <th>Hours</th>\n",
       "      <th>Scores</th>\n",
       "    </tr>\n",
       "  </thead>\n",
       "  <tbody>\n",
       "    <tr>\n",
       "      <th>0</th>\n",
       "      <td>2.5</td>\n",
       "      <td>21</td>\n",
       "    </tr>\n",
       "    <tr>\n",
       "      <th>1</th>\n",
       "      <td>5.1</td>\n",
       "      <td>47</td>\n",
       "    </tr>\n",
       "    <tr>\n",
       "      <th>2</th>\n",
       "      <td>3.2</td>\n",
       "      <td>27</td>\n",
       "    </tr>\n",
       "    <tr>\n",
       "      <th>3</th>\n",
       "      <td>8.5</td>\n",
       "      <td>75</td>\n",
       "    </tr>\n",
       "    <tr>\n",
       "      <th>4</th>\n",
       "      <td>3.5</td>\n",
       "      <td>30</td>\n",
       "    </tr>\n",
       "  </tbody>\n",
       "</table>\n",
       "</div>"
      ],
      "text/plain": [
       "   Hours  Scores\n",
       "0    2.5      21\n",
       "1    5.1      47\n",
       "2    3.2      27\n",
       "3    8.5      75\n",
       "4    3.5      30"
      ]
     },
     "execution_count": 3,
     "metadata": {},
     "output_type": "execute_result"
    }
   ],
   "source": [
    "df.head()"
   ]
  },
  {
   "cell_type": "code",
   "execution_count": 4,
   "id": "e606ea65",
   "metadata": {},
   "outputs": [
    {
     "data": {
      "text/plain": [
       "Hours     False\n",
       "Scores    False\n",
       "dtype: bool"
      ]
     },
     "execution_count": 4,
     "metadata": {},
     "output_type": "execute_result"
    }
   ],
   "source": [
    "df.isna().any()"
   ]
  },
  {
   "cell_type": "code",
   "execution_count": 5,
   "id": "8b680c6b",
   "metadata": {},
   "outputs": [],
   "source": [
    "from sklearn import linear_model\n",
    "import matplotlib.pyplot as plt\n",
    "%matplotlib inline"
   ]
  },
  {
   "cell_type": "markdown",
   "id": "15561640",
   "metadata": {},
   "source": [
    "Plotting the distribution of scores"
   ]
  },
  {
   "cell_type": "code",
   "execution_count": 6,
   "id": "791b91a0",
   "metadata": {},
   "outputs": [
    {
     "data": {
      "text/plain": [
       "<matplotlib.collections.PathCollection at 0x50480fa2b0>"
      ]
     },
     "execution_count": 6,
     "metadata": {},
     "output_type": "execute_result"
    },
    {
     "data": {
      "image/png": "[encoded data removed]",
      "text/plain": [
       "<Figure size 432x288 with 1 Axes>"
      ]
     },
     "metadata": {
      "needs_background": "light"
     },
     "output_type": "display_data"
    }
   ],
   "source": [
    "plt.scatter(df.Hours,df.Scores)"
   ]
  },
  {
   "cell_type": "markdown",
   "id": "31ac4a03",
   "metadata": {},
   "source": [
    "**From the graph above, we can clearly see that there is a positive linear relation between the number of hours studied and percentage of score.**"
   ]
  },
  {
   "cell_type": "code",
   "execution_count": null,
   "id": "f17b7234",
   "metadata": {},
   "outputs": [],
   "source": [
    "reg2=linear_model.LinearRegression()\n",
    "import numpy as np"
   ]
  },
  {
   "cell_type": "markdown",
   "id": "ac22d1d8",
   "metadata": {},
   "source": [
    "# Training the Algorithm"
   ]
  },
  {
   "cell_type": "code",
   "execution_count": 8,
   "id": "0385c9f6",
   "metadata": {},
   "outputs": [
    {
     "data": {
      "text/plain": [
       "LinearRegression()"
      ]
     },
     "execution_count": 8,
     "metadata": {},
     "output_type": "execute_result"
    }
   ],
   "source": [
    "reg2.fit(np.array(df.Hours).reshape(-1,1),df.Scores)"
   ]
  },
  {
   "cell_type": "code",
   "execution_count": 9,
   "id": "f4432faf",
   "metadata": {},
   "outputs": [
    {
     "data": {
      "text/plain": [
       "array([92.90985477])"
      ]
     },
     "execution_count": 9,
     "metadata": {},
     "output_type": "execute_result"
    }
   ],
   "source": [
    "reg2.predict(np.array([9.25]).reshape(-1,1))"
   ]
  },
  {
   "cell_type": "code",
   "execution_count": 17,
   "id": "3f49ad90",
   "metadata": {},
   "outputs": [
    {
     "name": "stdout",
     "output_type": "stream",
     "text": [
      "0     26.923182\n",
      "1     52.340271\n",
      "2     33.766244\n",
      "3     85.578002\n",
      "4     36.698985\n",
      "5     17.147378\n",
      "6     92.421065\n",
      "7     56.250592\n",
      "8     83.622842\n",
      "9     28.878343\n",
      "10    77.757360\n",
      "11    60.160913\n",
      "12    46.474789\n",
      "13    34.743825\n",
      "14    13.237057\n",
      "15    89.488324\n",
      "16    26.923182\n",
      "17    21.057700\n",
      "18    62.116074\n",
      "19    74.824618\n",
      "20    28.878343\n",
      "21    49.407530\n",
      "22    39.631726\n",
      "23    69.936717\n",
      "24    78.734940\n",
      "Name: Hours, dtype: float64\n"
     ]
    }
   ],
   "source": [
    "# Plotting the regression line\n",
    "line=reg2.coef_*df.Hours+reg2.intercept_\n",
    "print(line)"
   ]
  },
  {
   "cell_type": "code",
   "execution_count": 24,
   "id": "abb5976d",
   "metadata": {},
   "outputs": [
    {
     "data": {
      "image/png": "[encoded data removed]",
      "text/plain": [
       "<Figure size 432x288 with 1 Axes>"
      ]
     },
     "metadata": {
      "needs_background": "light"
     },
     "output_type": "display_data"
    }
   ],
   "source": [
    "# Plotting for the test data\n",
    "plt.scatter(df.Hours,df.Scores)\n",
    "plt.plot(df.Hours,line,color=\"red\")\n",
    "plt.xlabel(\"Hours\",fontsize=12)\n",
    "plt.ylabel(\"Scores\",fontsize=12)\n",
    "plt.show()"
   ]
  },
  {
   "cell_type": "code",
   "execution_count": 19,
   "id": "85065ee7",
   "metadata": {},
   "outputs": [
    {
     "data": {
      "text/plain": [
       "LinearRegression()"
      ]
     },
     "execution_count": 19,
     "metadata": {},
     "output_type": "execute_result"
    }
   ],
   "source": [
    "reg3=linear_model.LinearRegression()\n",
    "reg3.fit(df[['Hours']],df[['Scores']])"
   ]
  },
  {
   "cell_type": "markdown",
   "id": "21a1bd89",
   "metadata": {},
   "source": [
    "**Making the prediction.**"
   ]
  },
  {
   "cell_type": "markdown",
   "id": "18147ce0",
   "metadata": {},
   "source": [
    "# Solution\n",
    "**Predicting the percentage of students who studies 9.25hrs/day**"
   ]
  },
  {
   "cell_type": "code",
   "execution_count": 20,
   "id": "5bd644a7",
   "metadata": {},
   "outputs": [
    {
     "data": {
      "text/plain": [
       "array([[92.90985477]])"
      ]
     },
     "execution_count": 20,
     "metadata": {},
     "output_type": "execute_result"
    }
   ],
   "source": [
    "reg3.predict([[9.25]])"
   ]
  },
  {
   "cell_type": "markdown",
   "id": "6ba743e9",
   "metadata": {},
   "source": [
    "CONCLUSION : No of Hours = 9.25\n",
    "Predicted Score = 92.90985477"
   ]
  },
  {
   "cell_type": "markdown",
   "id": "210a200d",
   "metadata": {},
   "source": [
    "# Evaluating the model\n",
    "The final step is to evaluate the performance of algorithm. This step is particularly important to compare how well different algorithms perform on a particular dataset. For simplicity here, we have chosen the mean square error. There are many such metrics."
   ]
  },
  {
   "cell_type": "code",
   "execution_count": 43,
   "id": "77633a55",
   "metadata": {},
   "outputs": [
    {
     "name": "stdout",
     "output_type": "stream",
     "text": [
      "Mean Absolute Error: 5.340270698389297\n"
     ]
    }
   ],
   "source": [
    "from sklearn import metrics  \n",
    "y_test=df[df['Hours']==5.1].Scores\n",
    "y_test\n",
    "print('Mean Absolute Error:', \n",
    "      metrics.mean_absolute_error(y_test, reg3.predict([[5.1]]))) "
   ]
  }
 ],
 "metadata": {
  "kernelspec": {
   "display_name": "Python 3 (ipykernel)",
   "language": "python",
   "name": "python3"
  },
  "language_info": {
   "codemirror_mode": {
    "name": "ipython",
    "version": 3
   },
   "file_extension": ".py",
   "mimetype": "text/x-python",
   "name": "python",
   "nbconvert_exporter": "python",
   "pygments_lexer": "ipython3",
   "version": "3.9.7"
  }
 },
 "nbformat": 4,
 "nbformat_minor": 5
}
